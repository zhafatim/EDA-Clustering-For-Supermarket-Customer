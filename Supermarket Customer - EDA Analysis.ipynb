{
 "cells": [
  {
   "cell_type": "markdown",
   "metadata": {
    "id": "IRNtERY8FNe1"
   },
   "source": [
    "# Dataset Pelanggan Supermarket\n",
    "\n",
    "<i>dataset obtained from PKS Data Science bootcamp"
   ]
  },
  {
   "cell_type": "markdown",
   "metadata": {
    "id": "Dk_lP4YPF6_i"
   },
   "source": [
    "\n",
    "\n",
    "---\n",
    "\n",
    "\n",
    "\n",
    "---\n",
    "\n",
    "\n",
    "\n",
    "---\n",
    "\n"
   ]
  },
  {
   "cell_type": "code",
   "execution_count": 1,
   "metadata": {
    "id": "lhN_Ue2qF8nN"
   },
   "outputs": [],
   "source": [
    "import pandas as pd\n",
    "import numpy as np\n",
    "import matplotlib.pyplot as plt\n",
    "import seaborn as sns\n",
    "from sklearn.cluster import KMeans\n",
    "\n",
    "import warnings\n",
    "warnings.filterwarnings('ignore')"
   ]
  },
  {
   "cell_type": "code",
   "execution_count": 2,
   "metadata": {
    "id": "M1tQcd_ILZXq"
   },
   "outputs": [
    {
     "data": {
      "text/html": [
       "<div>\n",
       "<style scoped>\n",
       "    .dataframe tbody tr th:only-of-type {\n",
       "        vertical-align: middle;\n",
       "    }\n",
       "\n",
       "    .dataframe tbody tr th {\n",
       "        vertical-align: top;\n",
       "    }\n",
       "\n",
       "    .dataframe thead th {\n",
       "        text-align: right;\n",
       "    }\n",
       "</style>\n",
       "<table border=\"1\" class=\"dataframe\">\n",
       "  <thead>\n",
       "    <tr style=\"text-align: right;\">\n",
       "      <th></th>\n",
       "      <th>ID_pelanggan</th>\n",
       "      <th>Jenis Kelamin</th>\n",
       "      <th>Umur</th>\n",
       "      <th>Pendapatan pertahun (juta)</th>\n",
       "      <th>Skor Belanja (1-100)</th>\n",
       "    </tr>\n",
       "  </thead>\n",
       "  <tbody>\n",
       "    <tr>\n",
       "      <th>0</th>\n",
       "      <td>1</td>\n",
       "      <td>Laki-laki</td>\n",
       "      <td>19.0</td>\n",
       "      <td>15</td>\n",
       "      <td>39.0</td>\n",
       "    </tr>\n",
       "    <tr>\n",
       "      <th>1</th>\n",
       "      <td>2</td>\n",
       "      <td>Laki-laki</td>\n",
       "      <td>21.0</td>\n",
       "      <td>15</td>\n",
       "      <td>81.0</td>\n",
       "    </tr>\n",
       "    <tr>\n",
       "      <th>2</th>\n",
       "      <td>3</td>\n",
       "      <td>Perempuan</td>\n",
       "      <td>20.0</td>\n",
       "      <td>16</td>\n",
       "      <td>6.0</td>\n",
       "    </tr>\n",
       "    <tr>\n",
       "      <th>3</th>\n",
       "      <td>4</td>\n",
       "      <td>Perempuan</td>\n",
       "      <td>23.0</td>\n",
       "      <td>16</td>\n",
       "      <td>77.0</td>\n",
       "    </tr>\n",
       "    <tr>\n",
       "      <th>4</th>\n",
       "      <td>5</td>\n",
       "      <td>Perempuan</td>\n",
       "      <td>31.0</td>\n",
       "      <td>17</td>\n",
       "      <td>40.0</td>\n",
       "    </tr>\n",
       "  </tbody>\n",
       "</table>\n",
       "</div>"
      ],
      "text/plain": [
       "   ID_pelanggan Jenis Kelamin  Umur  Pendapatan pertahun (juta)  \\\n",
       "0             1     Laki-laki  19.0                          15   \n",
       "1             2     Laki-laki  21.0                          15   \n",
       "2             3     Perempuan  20.0                          16   \n",
       "3             4     Perempuan  23.0                          16   \n",
       "4             5     Perempuan  31.0                          17   \n",
       "\n",
       "   Skor Belanja (1-100)  \n",
       "0                  39.0  \n",
       "1                  81.0  \n",
       "2                   6.0  \n",
       "3                  77.0  \n",
       "4                  40.0  "
      ]
     },
     "execution_count": 2,
     "metadata": {},
     "output_type": "execute_result"
    }
   ],
   "source": [
    "#Load data\n",
    "\n",
    "df = pd.read_csv('data/pelanggan_supermarket.csv')\n",
    "df.head()"
   ]
  },
  {
   "cell_type": "markdown",
   "metadata": {
    "id": "aklja_xv_MS9"
   },
   "source": [
    "\n",
    "\n",
    "---\n",
    "\n",
    "\n",
    "\n",
    "---\n",
    "\n",
    "\n",
    "\n",
    "---\n",
    "\n"
   ]
  },
  {
   "cell_type": "markdown",
   "metadata": {
    "id": "zGrxp0w2GFOs"
   },
   "source": [
    "<b>Descriptive statistics"
   ]
  },
  {
   "cell_type": "code",
   "execution_count": 3,
   "metadata": {
    "id": "DpV8-yksGpIt"
   },
   "outputs": [
    {
     "data": {
      "text/html": [
       "<div>\n",
       "<style scoped>\n",
       "    .dataframe tbody tr th:only-of-type {\n",
       "        vertical-align: middle;\n",
       "    }\n",
       "\n",
       "    .dataframe tbody tr th {\n",
       "        vertical-align: top;\n",
       "    }\n",
       "\n",
       "    .dataframe thead th {\n",
       "        text-align: right;\n",
       "    }\n",
       "</style>\n",
       "<table border=\"1\" class=\"dataframe\">\n",
       "  <thead>\n",
       "    <tr style=\"text-align: right;\">\n",
       "      <th></th>\n",
       "      <th>ID_pelanggan</th>\n",
       "      <th>Umur</th>\n",
       "      <th>Pendapatan pertahun (juta)</th>\n",
       "      <th>Skor Belanja (1-100)</th>\n",
       "    </tr>\n",
       "  </thead>\n",
       "  <tbody>\n",
       "    <tr>\n",
       "      <th>count</th>\n",
       "      <td>250.000000</td>\n",
       "      <td>245.000000</td>\n",
       "      <td>250.000000</td>\n",
       "      <td>246.000000</td>\n",
       "    </tr>\n",
       "    <tr>\n",
       "      <th>mean</th>\n",
       "      <td>125.500000</td>\n",
       "      <td>38.730612</td>\n",
       "      <td>64.736000</td>\n",
       "      <td>50.325203</td>\n",
       "    </tr>\n",
       "    <tr>\n",
       "      <th>std</th>\n",
       "      <td>72.312977</td>\n",
       "      <td>14.328726</td>\n",
       "      <td>25.112324</td>\n",
       "      <td>28.668121</td>\n",
       "    </tr>\n",
       "    <tr>\n",
       "      <th>min</th>\n",
       "      <td>1.000000</td>\n",
       "      <td>18.000000</td>\n",
       "      <td>15.000000</td>\n",
       "      <td>3.000000</td>\n",
       "    </tr>\n",
       "    <tr>\n",
       "      <th>25%</th>\n",
       "      <td>63.250000</td>\n",
       "      <td>29.000000</td>\n",
       "      <td>47.000000</td>\n",
       "      <td>26.250000</td>\n",
       "    </tr>\n",
       "    <tr>\n",
       "      <th>50%</th>\n",
       "      <td>125.500000</td>\n",
       "      <td>36.000000</td>\n",
       "      <td>70.000000</td>\n",
       "      <td>50.000000</td>\n",
       "    </tr>\n",
       "    <tr>\n",
       "      <th>75%</th>\n",
       "      <td>187.750000</td>\n",
       "      <td>48.000000</td>\n",
       "      <td>78.750000</td>\n",
       "      <td>74.750000</td>\n",
       "    </tr>\n",
       "    <tr>\n",
       "      <th>max</th>\n",
       "      <td>250.000000</td>\n",
       "      <td>120.000000</td>\n",
       "      <td>137.000000</td>\n",
       "      <td>150.000000</td>\n",
       "    </tr>\n",
       "  </tbody>\n",
       "</table>\n",
       "</div>"
      ],
      "text/plain": [
       "       ID_pelanggan        Umur  Pendapatan pertahun (juta)  \\\n",
       "count    250.000000  245.000000                  250.000000   \n",
       "mean     125.500000   38.730612                   64.736000   \n",
       "std       72.312977   14.328726                   25.112324   \n",
       "min        1.000000   18.000000                   15.000000   \n",
       "25%       63.250000   29.000000                   47.000000   \n",
       "50%      125.500000   36.000000                   70.000000   \n",
       "75%      187.750000   48.000000                   78.750000   \n",
       "max      250.000000  120.000000                  137.000000   \n",
       "\n",
       "       Skor Belanja (1-100)  \n",
       "count            246.000000  \n",
       "mean              50.325203  \n",
       "std               28.668121  \n",
       "min                3.000000  \n",
       "25%               26.250000  \n",
       "50%               50.000000  \n",
       "75%               74.750000  \n",
       "max              150.000000  "
      ]
     },
     "execution_count": 3,
     "metadata": {},
     "output_type": "execute_result"
    }
   ],
   "source": [
    "df.describe()"
   ]
  },
  {
   "cell_type": "markdown",
   "metadata": {
    "id": "keRLYMjXHGup"
   },
   "source": [
    "\n",
    "\n",
    "---\n",
    "\n",
    "\n",
    "\n",
    "---\n",
    "\n",
    "\n",
    "\n",
    "---\n",
    "\n"
   ]
  },
  {
   "cell_type": "markdown",
   "metadata": {
    "id": "gqqEXm2yynSB"
   },
   "source": [
    "<b>Handling missing value"
   ]
  },
  {
   "cell_type": "code",
   "execution_count": 4,
   "metadata": {
    "id": "1SuPdIDFSCjn"
   },
   "outputs": [
    {
     "name": "stdout",
     "output_type": "stream",
     "text": [
      "ID_pelanggan                  0\n",
      "Jenis Kelamin                 0\n",
      "Umur                          5\n",
      "Pendapatan pertahun (juta)    0\n",
      "Skor Belanja (1-100)          4\n",
      "dtype: int64\n"
     ]
    }
   ],
   "source": [
    "print(df.isnull().sum())"
   ]
  },
  {
   "cell_type": "markdown",
   "metadata": {
    "id": "84_QmoQCbWxy"
   },
   "source": [
    "<b>Fill the missing value with \"ffill\" method"
   ]
  },
  {
   "cell_type": "code",
   "execution_count": 5,
   "metadata": {
    "id": "VkrSzblxbU6R"
   },
   "outputs": [
    {
     "data": {
      "text/html": [
       "<div>\n",
       "<style scoped>\n",
       "    .dataframe tbody tr th:only-of-type {\n",
       "        vertical-align: middle;\n",
       "    }\n",
       "\n",
       "    .dataframe tbody tr th {\n",
       "        vertical-align: top;\n",
       "    }\n",
       "\n",
       "    .dataframe thead th {\n",
       "        text-align: right;\n",
       "    }\n",
       "</style>\n",
       "<table border=\"1\" class=\"dataframe\">\n",
       "  <thead>\n",
       "    <tr style=\"text-align: right;\">\n",
       "      <th></th>\n",
       "      <th>ID_pelanggan</th>\n",
       "      <th>Jenis Kelamin</th>\n",
       "      <th>Umur</th>\n",
       "      <th>Pendapatan pertahun (juta)</th>\n",
       "      <th>Skor Belanja (1-100)</th>\n",
       "    </tr>\n",
       "  </thead>\n",
       "  <tbody>\n",
       "    <tr>\n",
       "      <th>0</th>\n",
       "      <td>1</td>\n",
       "      <td>Laki-laki</td>\n",
       "      <td>19.0</td>\n",
       "      <td>15</td>\n",
       "      <td>39.0</td>\n",
       "    </tr>\n",
       "    <tr>\n",
       "      <th>1</th>\n",
       "      <td>2</td>\n",
       "      <td>Laki-laki</td>\n",
       "      <td>21.0</td>\n",
       "      <td>15</td>\n",
       "      <td>81.0</td>\n",
       "    </tr>\n",
       "    <tr>\n",
       "      <th>2</th>\n",
       "      <td>3</td>\n",
       "      <td>Perempuan</td>\n",
       "      <td>20.0</td>\n",
       "      <td>16</td>\n",
       "      <td>6.0</td>\n",
       "    </tr>\n",
       "    <tr>\n",
       "      <th>3</th>\n",
       "      <td>4</td>\n",
       "      <td>Perempuan</td>\n",
       "      <td>23.0</td>\n",
       "      <td>16</td>\n",
       "      <td>77.0</td>\n",
       "    </tr>\n",
       "    <tr>\n",
       "      <th>4</th>\n",
       "      <td>5</td>\n",
       "      <td>Perempuan</td>\n",
       "      <td>31.0</td>\n",
       "      <td>17</td>\n",
       "      <td>40.0</td>\n",
       "    </tr>\n",
       "    <tr>\n",
       "      <th>...</th>\n",
       "      <td>...</td>\n",
       "      <td>...</td>\n",
       "      <td>...</td>\n",
       "      <td>...</td>\n",
       "      <td>...</td>\n",
       "    </tr>\n",
       "    <tr>\n",
       "      <th>245</th>\n",
       "      <td>246</td>\n",
       "      <td>Laki-laki</td>\n",
       "      <td>59.0</td>\n",
       "      <td>93</td>\n",
       "      <td>14.0</td>\n",
       "    </tr>\n",
       "    <tr>\n",
       "      <th>246</th>\n",
       "      <td>247</td>\n",
       "      <td>Laki-laki</td>\n",
       "      <td>35.0</td>\n",
       "      <td>93</td>\n",
       "      <td>90.0</td>\n",
       "    </tr>\n",
       "    <tr>\n",
       "      <th>247</th>\n",
       "      <td>248</td>\n",
       "      <td>Perempuan</td>\n",
       "      <td>37.0</td>\n",
       "      <td>97</td>\n",
       "      <td>32.0</td>\n",
       "    </tr>\n",
       "    <tr>\n",
       "      <th>248</th>\n",
       "      <td>249</td>\n",
       "      <td>Perempuan</td>\n",
       "      <td>32.0</td>\n",
       "      <td>97</td>\n",
       "      <td>86.0</td>\n",
       "    </tr>\n",
       "    <tr>\n",
       "      <th>249</th>\n",
       "      <td>250</td>\n",
       "      <td>Laki-laki</td>\n",
       "      <td>120.0</td>\n",
       "      <td>98</td>\n",
       "      <td>15.0</td>\n",
       "    </tr>\n",
       "  </tbody>\n",
       "</table>\n",
       "<p>250 rows × 5 columns</p>\n",
       "</div>"
      ],
      "text/plain": [
       "     ID_pelanggan Jenis Kelamin   Umur  Pendapatan pertahun (juta)  \\\n",
       "0               1     Laki-laki   19.0                          15   \n",
       "1               2     Laki-laki   21.0                          15   \n",
       "2               3     Perempuan   20.0                          16   \n",
       "3               4     Perempuan   23.0                          16   \n",
       "4               5     Perempuan   31.0                          17   \n",
       "..            ...           ...    ...                         ...   \n",
       "245           246     Laki-laki   59.0                          93   \n",
       "246           247     Laki-laki   35.0                          93   \n",
       "247           248     Perempuan   37.0                          97   \n",
       "248           249     Perempuan   32.0                          97   \n",
       "249           250     Laki-laki  120.0                          98   \n",
       "\n",
       "     Skor Belanja (1-100)  \n",
       "0                    39.0  \n",
       "1                    81.0  \n",
       "2                     6.0  \n",
       "3                    77.0  \n",
       "4                    40.0  \n",
       "..                    ...  \n",
       "245                  14.0  \n",
       "246                  90.0  \n",
       "247                  32.0  \n",
       "248                  86.0  \n",
       "249                  15.0  \n",
       "\n",
       "[250 rows x 5 columns]"
      ]
     },
     "execution_count": 5,
     "metadata": {},
     "output_type": "execute_result"
    }
   ],
   "source": [
    "no_NaN = df.fillna(method = 'ffill')\n",
    "no_NaN"
   ]
  },
  {
   "cell_type": "markdown",
   "metadata": {
    "id": "Nk2o-YkFZt4q"
   },
   "source": [
    "<b>Re-check missing value"
   ]
  },
  {
   "cell_type": "code",
   "execution_count": 6,
   "metadata": {
    "id": "Mho3zeRweopD"
   },
   "outputs": [
    {
     "name": "stdout",
     "output_type": "stream",
     "text": [
      "ID_pelanggan                  0\n",
      "Jenis Kelamin                 0\n",
      "Umur                          0\n",
      "Pendapatan pertahun (juta)    0\n",
      "Skor Belanja (1-100)          0\n",
      "dtype: int64\n"
     ]
    }
   ],
   "source": [
    "print(no_NaN.isnull().sum())"
   ]
  },
  {
   "cell_type": "markdown",
   "metadata": {
    "id": "sy1o6Lhs_QJy"
   },
   "source": [
    "\n",
    "\n",
    "---\n",
    "\n",
    "\n",
    "\n",
    "---\n",
    "\n",
    "\n",
    "\n",
    "---\n",
    "\n"
   ]
  },
  {
   "cell_type": "markdown",
   "metadata": {
    "id": "0ch4lp680ZNj"
   },
   "source": [
    "<b> Handling outlier"
   ]
  },
  {
   "cell_type": "code",
   "execution_count": 7,
   "metadata": {
    "id": "MH1y8rEx0mKs"
   },
   "outputs": [
    {
     "data": {
      "image/png": "[encoded data removed]",
      "text/plain": [
       "<Figure size 1008x432 with 4 Axes>"
      ]
     },
     "metadata": {
      "needs_background": "light"
     },
     "output_type": "display_data"
    }
   ],
   "source": [
    "#Plotting columns before handling outlier\n",
    "\n",
    "plt.figure(figsize=(14,6))\n",
    "\n",
    "for i, j in enumerate(no_NaN.describe().columns):\n",
    "    plt.subplot(2,3,i+1)\n",
    "    sns.boxplot(x = no_NaN[j])\n",
    "    plt.tight_layout()\n",
    "    \n",
    "plt.show()"
   ]
  },
  {
   "cell_type": "code",
   "execution_count": 8,
   "metadata": {
    "id": "BkU9nyx7290e"
   },
   "outputs": [
    {
     "data": {
      "text/plain": [
       "[16, 198, 199, 249]"
      ]
     },
     "execution_count": 8,
     "metadata": {},
     "output_type": "execute_result"
    }
   ],
   "source": [
    "#Remove outlier\n",
    "\n",
    "def get_Outliers_index(dframe):\n",
    "    \n",
    "    outliers_index = []\n",
    "    for col in dframe.describe().columns:\n",
    "        Q1 = dframe[col].quantile(0.25)\n",
    "        Q3 = dframe[col].quantile(0.75)\n",
    "    \n",
    "        IQR = Q3-Q1\n",
    "    \n",
    "        lower_limit = Q1-(1.5*IQR)\n",
    "        upper_limit = Q3+(1.5*IQR)\n",
    "    \n",
    "        outliers = dframe[ (dframe[col]<lower_limit) | (dframe[col]>upper_limit) ].index\n",
    "        outliers_index.extend(outliers.to_list())\n",
    "    \n",
    "    outliers_index = set(outliers_index)  #Convert to set to remove duplicate numbers\n",
    "    outliers_index = list(outliers_index) #Convert the set back to list\n",
    "    \n",
    "    outliers_index.sort()                 #Sort the list\n",
    "    \n",
    "    return outliers_index\n",
    "\n",
    "get_Outliers_index(no_NaN)"
   ]
  },
  {
   "cell_type": "code",
   "execution_count": 9,
   "metadata": {},
   "outputs": [
    {
     "data": {
      "text/html": [
       "<div>\n",
       "<style scoped>\n",
       "    .dataframe tbody tr th:only-of-type {\n",
       "        vertical-align: middle;\n",
       "    }\n",
       "\n",
       "    .dataframe tbody tr th {\n",
       "        vertical-align: top;\n",
       "    }\n",
       "\n",
       "    .dataframe thead th {\n",
       "        text-align: right;\n",
       "    }\n",
       "</style>\n",
       "<table border=\"1\" class=\"dataframe\">\n",
       "  <thead>\n",
       "    <tr style=\"text-align: right;\">\n",
       "      <th></th>\n",
       "      <th>Umur</th>\n",
       "      <th>Pendapatan pertahun (juta)</th>\n",
       "      <th>Skor Belanja (1-100)</th>\n",
       "    </tr>\n",
       "  </thead>\n",
       "  <tbody>\n",
       "    <tr>\n",
       "      <th>0</th>\n",
       "      <td>19.0</td>\n",
       "      <td>15</td>\n",
       "      <td>39.0</td>\n",
       "    </tr>\n",
       "    <tr>\n",
       "      <th>1</th>\n",
       "      <td>21.0</td>\n",
       "      <td>15</td>\n",
       "      <td>81.0</td>\n",
       "    </tr>\n",
       "    <tr>\n",
       "      <th>2</th>\n",
       "      <td>20.0</td>\n",
       "      <td>16</td>\n",
       "      <td>6.0</td>\n",
       "    </tr>\n",
       "    <tr>\n",
       "      <th>3</th>\n",
       "      <td>23.0</td>\n",
       "      <td>16</td>\n",
       "      <td>77.0</td>\n",
       "    </tr>\n",
       "    <tr>\n",
       "      <th>4</th>\n",
       "      <td>31.0</td>\n",
       "      <td>17</td>\n",
       "      <td>40.0</td>\n",
       "    </tr>\n",
       "    <tr>\n",
       "      <th>...</th>\n",
       "      <td>...</td>\n",
       "      <td>...</td>\n",
       "      <td>...</td>\n",
       "    </tr>\n",
       "    <tr>\n",
       "      <th>244</th>\n",
       "      <td>27.0</td>\n",
       "      <td>88</td>\n",
       "      <td>69.0</td>\n",
       "    </tr>\n",
       "    <tr>\n",
       "      <th>245</th>\n",
       "      <td>59.0</td>\n",
       "      <td>93</td>\n",
       "      <td>14.0</td>\n",
       "    </tr>\n",
       "    <tr>\n",
       "      <th>246</th>\n",
       "      <td>35.0</td>\n",
       "      <td>93</td>\n",
       "      <td>90.0</td>\n",
       "    </tr>\n",
       "    <tr>\n",
       "      <th>247</th>\n",
       "      <td>37.0</td>\n",
       "      <td>97</td>\n",
       "      <td>32.0</td>\n",
       "    </tr>\n",
       "    <tr>\n",
       "      <th>248</th>\n",
       "      <td>32.0</td>\n",
       "      <td>97</td>\n",
       "      <td>86.0</td>\n",
       "    </tr>\n",
       "  </tbody>\n",
       "</table>\n",
       "<p>246 rows × 3 columns</p>\n",
       "</div>"
      ],
      "text/plain": [
       "     Umur  Pendapatan pertahun (juta)  Skor Belanja (1-100)\n",
       "0    19.0                          15                  39.0\n",
       "1    21.0                          15                  81.0\n",
       "2    20.0                          16                   6.0\n",
       "3    23.0                          16                  77.0\n",
       "4    31.0                          17                  40.0\n",
       "..    ...                         ...                   ...\n",
       "244  27.0                          88                  69.0\n",
       "245  59.0                          93                  14.0\n",
       "246  35.0                          93                  90.0\n",
       "247  37.0                          97                  32.0\n",
       "248  32.0                          97                  86.0\n",
       "\n",
       "[246 rows x 3 columns]"
      ]
     },
     "metadata": {},
     "output_type": "display_data"
    }
   ],
   "source": [
    "#DataFrame after handling outlier\n",
    "\n",
    "out_cust = get_Outliers_index(no_NaN)\n",
    "\n",
    "no_NaN.drop(out_cust, inplace=True)\n",
    "\n",
    "display(no_NaN[[\"Umur\",\"Pendapatan pertahun (juta)\",\"Skor Belanja (1-100)\"]])"
   ]
  },
  {
   "cell_type": "code",
   "execution_count": 10,
   "metadata": {
    "id": "cJLeOfj9Zt4s"
   },
   "outputs": [
    {
     "data": {
      "image/png": "[encoded data removed]",
      "text/plain": [
       "<Figure size 1008x432 with 3 Axes>"
      ]
     },
     "metadata": {
      "needs_background": "light"
     },
     "output_type": "display_data"
    }
   ],
   "source": [
    "#Plotting data after handling outlier\n",
    "\n",
    "plt.figure(figsize=(14,6))\n",
    "\n",
    "for i, j in enumerate(no_NaN.describe().columns[1:4]):\n",
    "    plt.subplot(2,3,i+1)\n",
    "    sns.boxplot(x = no_NaN[j])\n",
    "    plt.tight_layout()\n",
    "    \n",
    "plt.show()"
   ]
  },
  {
   "cell_type": "markdown",
   "metadata": {
    "id": "mpSdl95j_TVj"
   },
   "source": [
    "\n",
    "\n",
    "---\n",
    "\n",
    "\n",
    "\n",
    "---\n",
    "\n",
    "\n",
    "\n",
    "---\n",
    "\n"
   ]
  },
  {
   "cell_type": "markdown",
   "metadata": {
    "id": "YKODTt1z7XTq"
   },
   "source": [
    "<b>Inferential statistics"
   ]
  },
  {
   "cell_type": "markdown",
   "metadata": {},
   "source": [
    "We will do hypothesis test for 100 sample random supermarket customer (pengunjung supermarket) with null hypothesis is average age of supermarket customer is 35. Test the hypothesis using p-value method."
   ]
  },
  {
   "cell_type": "code",
   "execution_count": 11,
   "metadata": {
    "id": "wEPnJKbl7GTK"
   },
   "outputs": [
    {
     "data": {
      "text/html": [
       "<div>\n",
       "<style scoped>\n",
       "    .dataframe tbody tr th:only-of-type {\n",
       "        vertical-align: middle;\n",
       "    }\n",
       "\n",
       "    .dataframe tbody tr th {\n",
       "        vertical-align: top;\n",
       "    }\n",
       "\n",
       "    .dataframe thead th {\n",
       "        text-align: right;\n",
       "    }\n",
       "</style>\n",
       "<table border=\"1\" class=\"dataframe\">\n",
       "  <thead>\n",
       "    <tr style=\"text-align: right;\">\n",
       "      <th></th>\n",
       "      <th>ID_pelanggan</th>\n",
       "      <th>Jenis Kelamin</th>\n",
       "      <th>Umur</th>\n",
       "      <th>Pendapatan pertahun (juta)</th>\n",
       "      <th>Skor Belanja (1-100)</th>\n",
       "    </tr>\n",
       "  </thead>\n",
       "  <tbody>\n",
       "    <tr>\n",
       "      <th>68</th>\n",
       "      <td>69</td>\n",
       "      <td>Laki-laki</td>\n",
       "      <td>19.0</td>\n",
       "      <td>48</td>\n",
       "      <td>59.0</td>\n",
       "    </tr>\n",
       "    <tr>\n",
       "      <th>248</th>\n",
       "      <td>249</td>\n",
       "      <td>Perempuan</td>\n",
       "      <td>32.0</td>\n",
       "      <td>97</td>\n",
       "      <td>86.0</td>\n",
       "    </tr>\n",
       "    <tr>\n",
       "      <th>211</th>\n",
       "      <td>212</td>\n",
       "      <td>Laki-laki</td>\n",
       "      <td>25.0</td>\n",
       "      <td>77</td>\n",
       "      <td>12.0</td>\n",
       "    </tr>\n",
       "    <tr>\n",
       "      <th>225</th>\n",
       "      <td>226</td>\n",
       "      <td>Laki-laki</td>\n",
       "      <td>30.0</td>\n",
       "      <td>78</td>\n",
       "      <td>4.0</td>\n",
       "    </tr>\n",
       "    <tr>\n",
       "      <th>91</th>\n",
       "      <td>92</td>\n",
       "      <td>Laki-laki</td>\n",
       "      <td>18.0</td>\n",
       "      <td>59</td>\n",
       "      <td>41.0</td>\n",
       "    </tr>\n",
       "    <tr>\n",
       "      <th>...</th>\n",
       "      <td>...</td>\n",
       "      <td>...</td>\n",
       "      <td>...</td>\n",
       "      <td>...</td>\n",
       "      <td>...</td>\n",
       "    </tr>\n",
       "    <tr>\n",
       "      <th>5</th>\n",
       "      <td>6</td>\n",
       "      <td>Perempuan</td>\n",
       "      <td>22.0</td>\n",
       "      <td>17</td>\n",
       "      <td>76.0</td>\n",
       "    </tr>\n",
       "    <tr>\n",
       "      <th>184</th>\n",
       "      <td>185</td>\n",
       "      <td>Perempuan</td>\n",
       "      <td>41.0</td>\n",
       "      <td>99</td>\n",
       "      <td>39.0</td>\n",
       "    </tr>\n",
       "    <tr>\n",
       "      <th>186</th>\n",
       "      <td>187</td>\n",
       "      <td>Perempuan</td>\n",
       "      <td>54.0</td>\n",
       "      <td>101</td>\n",
       "      <td>24.0</td>\n",
       "    </tr>\n",
       "    <tr>\n",
       "      <th>49</th>\n",
       "      <td>50</td>\n",
       "      <td>Perempuan</td>\n",
       "      <td>31.0</td>\n",
       "      <td>40</td>\n",
       "      <td>42.0</td>\n",
       "    </tr>\n",
       "    <tr>\n",
       "      <th>201</th>\n",
       "      <td>202</td>\n",
       "      <td>Laki-laki</td>\n",
       "      <td>20.0</td>\n",
       "      <td>73</td>\n",
       "      <td>5.0</td>\n",
       "    </tr>\n",
       "  </tbody>\n",
       "</table>\n",
       "<p>100 rows × 5 columns</p>\n",
       "</div>"
      ],
      "text/plain": [
       "     ID_pelanggan Jenis Kelamin  Umur  Pendapatan pertahun (juta)  \\\n",
       "68             69     Laki-laki  19.0                          48   \n",
       "248           249     Perempuan  32.0                          97   \n",
       "211           212     Laki-laki  25.0                          77   \n",
       "225           226     Laki-laki  30.0                          78   \n",
       "91             92     Laki-laki  18.0                          59   \n",
       "..            ...           ...   ...                         ...   \n",
       "5               6     Perempuan  22.0                          17   \n",
       "184           185     Perempuan  41.0                          99   \n",
       "186           187     Perempuan  54.0                         101   \n",
       "49             50     Perempuan  31.0                          40   \n",
       "201           202     Laki-laki  20.0                          73   \n",
       "\n",
       "     Skor Belanja (1-100)  \n",
       "68                   59.0  \n",
       "248                  86.0  \n",
       "211                  12.0  \n",
       "225                   4.0  \n",
       "91                   41.0  \n",
       "..                    ...  \n",
       "5                    76.0  \n",
       "184                  39.0  \n",
       "186                  24.0  \n",
       "49                   42.0  \n",
       "201                   5.0  \n",
       "\n",
       "[100 rows x 5 columns]"
      ]
     },
     "metadata": {},
     "output_type": "display_data"
    }
   ],
   "source": [
    "#Random sampling\n",
    "\n",
    "df_100 = no_NaN.sample(100,  random_state=1)\n",
    "display(df_100)"
   ]
  },
  {
   "cell_type": "code",
   "execution_count": 12,
   "metadata": {
    "id": "KsXLp9-IxrLr"
   },
   "outputs": [],
   "source": [
    "#Change Umur column to integer\n",
    "\n",
    "df_100['Umur'] = df_100['Umur'].astype('int')"
   ]
  },
  {
   "cell_type": "code",
   "execution_count": 13,
   "metadata": {
    "id": "D7tYQ8qDp4in"
   },
   "outputs": [
    {
     "name": "stdout",
     "output_type": "stream",
     "text": [
      "Z-test is :2.4874107887154624\n",
      "p-value is :0.012867672183696988\n"
     ]
    }
   ],
   "source": [
    "#P-value\n",
    "\n",
    "from statsmodels.stats.weightstats import ztest\n",
    "\n",
    "z_test, p_value = ztest(x1 = df_100['Umur'], value = 35)\n",
    "\n",
    "#print the Results\n",
    "print(f'Z-test is :{z_test}')\n",
    "print(f'p-value is :{p_value}')"
   ]
  },
  {
   "cell_type": "markdown",
   "metadata": {},
   "source": [
    "Analysis description:\n",
    "\n",
    "Because p-value = 0.012867672183696988 which means p-value <0.05 (5% significance value), then H0 (null hypothesis) is rejected. So it can be concluded that the average age of supermarket customer is not the same as 35."
   ]
  },
  {
   "cell_type": "markdown",
   "metadata": {
    "id": "272__Q0-_H_E"
   },
   "source": [
    "\n",
    "\n",
    "---\n",
    "\n",
    "\n",
    "\n",
    "---\n",
    "\n",
    "\n",
    "\n",
    "---\n",
    "\n"
   ]
  },
  {
   "cell_type": "markdown",
   "metadata": {},
   "source": [
    "### Exploratory Data Analysis"
   ]
  },
  {
   "cell_type": "markdown",
   "metadata": {
    "id": "GQCd-O8ApvTE"
   },
   "source": [
    "<b>Univariate Analysis\n",
    "    \n",
    "Use distplot to see the pattern of data distribution."
   ]
  },
  {
   "cell_type": "code",
   "execution_count": 14,
   "metadata": {
    "id": "yqU_q301A-Iw"
   },
   "outputs": [
    {
     "data": {
      "image/png": "[encoded data removed]",
      "text/plain": [
       "<Figure size 1008x432 with 4 Axes>"
      ]
     },
     "metadata": {
      "needs_background": "light"
     },
     "output_type": "display_data"
    }
   ],
   "source": [
    "plt.figure(figsize=(14,6))\n",
    "\n",
    "for i, j in enumerate(df.describe().columns):\n",
    "    plt.subplot(2,3,i+1)\n",
    "    sns.distplot(x = df[j], axlabel=j)\n",
    "    plt.tight_layout()\n",
    "    \n",
    "plt.show()"
   ]
  },
  {
   "cell_type": "markdown",
   "metadata": {},
   "source": [
    "From the plot above, The curvers for \"Umur\" and \"Pendapatan pertahun\" are not symmetrical or tends to tilt to the left/right, which means that the data is not normally distributed or the distribution of the data is not normal."
   ]
  },
  {
   "cell_type": "markdown",
   "metadata": {
    "id": "dboImtGCDjMs"
   },
   "source": [
    "---\n",
    "\n",
    "<b>Bivariate Analysis\n",
    "\n",
    "Use dataframe before handling missing value and outlier and use barplot to see comparison of \"Skor Belanja\" between female customer and male customer."
   ]
  },
  {
   "cell_type": "code",
   "execution_count": 15,
   "metadata": {
    "id": "35VQedYoEB-w"
   },
   "outputs": [
    {
     "data": {
      "text/html": [
       "<div>\n",
       "<style scoped>\n",
       "    .dataframe tbody tr th:only-of-type {\n",
       "        vertical-align: middle;\n",
       "    }\n",
       "\n",
       "    .dataframe tbody tr th {\n",
       "        vertical-align: top;\n",
       "    }\n",
       "\n",
       "    .dataframe thead th {\n",
       "        text-align: right;\n",
       "    }\n",
       "</style>\n",
       "<table border=\"1\" class=\"dataframe\">\n",
       "  <thead>\n",
       "    <tr style=\"text-align: right;\">\n",
       "      <th></th>\n",
       "      <th>ID_pelanggan</th>\n",
       "      <th>Jenis Kelamin</th>\n",
       "      <th>Umur</th>\n",
       "      <th>Pendapatan pertahun (juta)</th>\n",
       "      <th>Skor Belanja (1-100)</th>\n",
       "    </tr>\n",
       "  </thead>\n",
       "  <tbody>\n",
       "    <tr>\n",
       "      <th>16</th>\n",
       "      <td>17</td>\n",
       "      <td>Perempuan</td>\n",
       "      <td>35.0</td>\n",
       "      <td>21</td>\n",
       "      <td>150.0</td>\n",
       "    </tr>\n",
       "    <tr>\n",
       "      <th>11</th>\n",
       "      <td>12</td>\n",
       "      <td>Perempuan</td>\n",
       "      <td>35.0</td>\n",
       "      <td>19</td>\n",
       "      <td>99.0</td>\n",
       "    </tr>\n",
       "    <tr>\n",
       "      <th>19</th>\n",
       "      <td>20</td>\n",
       "      <td>Perempuan</td>\n",
       "      <td>35.0</td>\n",
       "      <td>23</td>\n",
       "      <td>98.0</td>\n",
       "    </tr>\n",
       "    <tr>\n",
       "      <th>185</th>\n",
       "      <td>186</td>\n",
       "      <td>Laki-laki</td>\n",
       "      <td>30.0</td>\n",
       "      <td>99</td>\n",
       "      <td>97.0</td>\n",
       "    </tr>\n",
       "    <tr>\n",
       "      <th>145</th>\n",
       "      <td>146</td>\n",
       "      <td>Laki-laki</td>\n",
       "      <td>28.0</td>\n",
       "      <td>77</td>\n",
       "      <td>97.0</td>\n",
       "    </tr>\n",
       "    <tr>\n",
       "      <th>...</th>\n",
       "      <td>...</td>\n",
       "      <td>...</td>\n",
       "      <td>...</td>\n",
       "      <td>...</td>\n",
       "      <td>...</td>\n",
       "    </tr>\n",
       "    <tr>\n",
       "      <th>8</th>\n",
       "      <td>9</td>\n",
       "      <td>Laki-laki</td>\n",
       "      <td>64.0</td>\n",
       "      <td>19</td>\n",
       "      <td>3.0</td>\n",
       "    </tr>\n",
       "    <tr>\n",
       "      <th>49</th>\n",
       "      <td>50</td>\n",
       "      <td>Perempuan</td>\n",
       "      <td>31.0</td>\n",
       "      <td>40</td>\n",
       "      <td>NaN</td>\n",
       "    </tr>\n",
       "    <tr>\n",
       "      <th>61</th>\n",
       "      <td>62</td>\n",
       "      <td>Laki-laki</td>\n",
       "      <td>19.0</td>\n",
       "      <td>46</td>\n",
       "      <td>NaN</td>\n",
       "    </tr>\n",
       "    <tr>\n",
       "      <th>94</th>\n",
       "      <td>95</td>\n",
       "      <td>Perempuan</td>\n",
       "      <td>32.0</td>\n",
       "      <td>60</td>\n",
       "      <td>NaN</td>\n",
       "    </tr>\n",
       "    <tr>\n",
       "      <th>117</th>\n",
       "      <td>118</td>\n",
       "      <td>Perempuan</td>\n",
       "      <td>49.0</td>\n",
       "      <td>65</td>\n",
       "      <td>NaN</td>\n",
       "    </tr>\n",
       "  </tbody>\n",
       "</table>\n",
       "<p>250 rows × 5 columns</p>\n",
       "</div>"
      ],
      "text/plain": [
       "     ID_pelanggan Jenis Kelamin  Umur  Pendapatan pertahun (juta)  \\\n",
       "16             17     Perempuan  35.0                          21   \n",
       "11             12     Perempuan  35.0                          19   \n",
       "19             20     Perempuan  35.0                          23   \n",
       "185           186     Laki-laki  30.0                          99   \n",
       "145           146     Laki-laki  28.0                          77   \n",
       "..            ...           ...   ...                         ...   \n",
       "8               9     Laki-laki  64.0                          19   \n",
       "49             50     Perempuan  31.0                          40   \n",
       "61             62     Laki-laki  19.0                          46   \n",
       "94             95     Perempuan  32.0                          60   \n",
       "117           118     Perempuan  49.0                          65   \n",
       "\n",
       "     Skor Belanja (1-100)  \n",
       "16                  150.0  \n",
       "11                   99.0  \n",
       "19                   98.0  \n",
       "185                  97.0  \n",
       "145                  97.0  \n",
       "..                    ...  \n",
       "8                     3.0  \n",
       "49                    NaN  \n",
       "61                    NaN  \n",
       "94                    NaN  \n",
       "117                   NaN  \n",
       "\n",
       "[250 rows x 5 columns]"
      ]
     },
     "execution_count": 15,
     "metadata": {},
     "output_type": "execute_result"
    }
   ],
   "source": [
    "#Sort dataframe based on Skor Belanja.\n",
    "\n",
    "skor = df.sort_values(by=\"Skor Belanja (1-100)\",ascending=False)\n",
    "skor"
   ]
  },
  {
   "cell_type": "markdown",
   "metadata": {
    "id": "ES5gHkXmZt4w"
   },
   "source": [
    "<b> Highest Score"
   ]
  },
  {
   "cell_type": "code",
   "execution_count": 16,
   "metadata": {
    "id": "cnUOyPGUZt4w"
   },
   "outputs": [
    {
     "data": {
      "text/html": [
       "<div>\n",
       "<style scoped>\n",
       "    .dataframe tbody tr th:only-of-type {\n",
       "        vertical-align: middle;\n",
       "    }\n",
       "\n",
       "    .dataframe tbody tr th {\n",
       "        vertical-align: top;\n",
       "    }\n",
       "\n",
       "    .dataframe thead th {\n",
       "        text-align: right;\n",
       "    }\n",
       "</style>\n",
       "<table border=\"1\" class=\"dataframe\">\n",
       "  <thead>\n",
       "    <tr style=\"text-align: right;\">\n",
       "      <th></th>\n",
       "      <th>ID_pelanggan</th>\n",
       "      <th>Jenis Kelamin</th>\n",
       "      <th>Umur</th>\n",
       "      <th>Pendapatan pertahun (juta)</th>\n",
       "      <th>Skor Belanja (1-100)</th>\n",
       "    </tr>\n",
       "  </thead>\n",
       "  <tbody>\n",
       "    <tr>\n",
       "      <th>16</th>\n",
       "      <td>17</td>\n",
       "      <td>Perempuan</td>\n",
       "      <td>35.0</td>\n",
       "      <td>21</td>\n",
       "      <td>150.0</td>\n",
       "    </tr>\n",
       "    <tr>\n",
       "      <th>11</th>\n",
       "      <td>12</td>\n",
       "      <td>Perempuan</td>\n",
       "      <td>35.0</td>\n",
       "      <td>19</td>\n",
       "      <td>99.0</td>\n",
       "    </tr>\n",
       "    <tr>\n",
       "      <th>19</th>\n",
       "      <td>20</td>\n",
       "      <td>Perempuan</td>\n",
       "      <td>35.0</td>\n",
       "      <td>23</td>\n",
       "      <td>98.0</td>\n",
       "    </tr>\n",
       "    <tr>\n",
       "      <th>185</th>\n",
       "      <td>186</td>\n",
       "      <td>Laki-laki</td>\n",
       "      <td>30.0</td>\n",
       "      <td>99</td>\n",
       "      <td>97.0</td>\n",
       "    </tr>\n",
       "    <tr>\n",
       "      <th>145</th>\n",
       "      <td>146</td>\n",
       "      <td>Laki-laki</td>\n",
       "      <td>28.0</td>\n",
       "      <td>77</td>\n",
       "      <td>97.0</td>\n",
       "    </tr>\n",
       "  </tbody>\n",
       "</table>\n",
       "</div>"
      ],
      "text/plain": [
       "     ID_pelanggan Jenis Kelamin  Umur  Pendapatan pertahun (juta)  \\\n",
       "16             17     Perempuan  35.0                          21   \n",
       "11             12     Perempuan  35.0                          19   \n",
       "19             20     Perempuan  35.0                          23   \n",
       "185           186     Laki-laki  30.0                          99   \n",
       "145           146     Laki-laki  28.0                          77   \n",
       "\n",
       "     Skor Belanja (1-100)  \n",
       "16                  150.0  \n",
       "11                   99.0  \n",
       "19                   98.0  \n",
       "185                  97.0  \n",
       "145                  97.0  "
      ]
     },
     "execution_count": 16,
     "metadata": {},
     "output_type": "execute_result"
    }
   ],
   "source": [
    "high_skor = skor.head()\n",
    "high_skor"
   ]
  },
  {
   "cell_type": "markdown",
   "metadata": {
    "id": "nwqnveD6Zt4w"
   },
   "source": [
    "<b> Lowest Score"
   ]
  },
  {
   "cell_type": "code",
   "execution_count": 17,
   "metadata": {
    "id": "uGct3LD7RUon"
   },
   "outputs": [
    {
     "data": {
      "text/html": [
       "<div>\n",
       "<style scoped>\n",
       "    .dataframe tbody tr th:only-of-type {\n",
       "        vertical-align: middle;\n",
       "    }\n",
       "\n",
       "    .dataframe tbody tr th {\n",
       "        vertical-align: top;\n",
       "    }\n",
       "\n",
       "    .dataframe thead th {\n",
       "        text-align: right;\n",
       "    }\n",
       "</style>\n",
       "<table border=\"1\" class=\"dataframe\">\n",
       "  <thead>\n",
       "    <tr style=\"text-align: right;\">\n",
       "      <th></th>\n",
       "      <th>ID_pelanggan</th>\n",
       "      <th>Jenis Kelamin</th>\n",
       "      <th>Umur</th>\n",
       "      <th>Pendapatan pertahun (juta)</th>\n",
       "      <th>Skor Belanja (1-100)</th>\n",
       "    </tr>\n",
       "  </thead>\n",
       "  <tbody>\n",
       "    <tr>\n",
       "      <th>8</th>\n",
       "      <td>9</td>\n",
       "      <td>Laki-laki</td>\n",
       "      <td>64.0</td>\n",
       "      <td>19</td>\n",
       "      <td>3.0</td>\n",
       "    </tr>\n",
       "    <tr>\n",
       "      <th>49</th>\n",
       "      <td>50</td>\n",
       "      <td>Perempuan</td>\n",
       "      <td>31.0</td>\n",
       "      <td>40</td>\n",
       "      <td>NaN</td>\n",
       "    </tr>\n",
       "    <tr>\n",
       "      <th>61</th>\n",
       "      <td>62</td>\n",
       "      <td>Laki-laki</td>\n",
       "      <td>19.0</td>\n",
       "      <td>46</td>\n",
       "      <td>NaN</td>\n",
       "    </tr>\n",
       "    <tr>\n",
       "      <th>94</th>\n",
       "      <td>95</td>\n",
       "      <td>Perempuan</td>\n",
       "      <td>32.0</td>\n",
       "      <td>60</td>\n",
       "      <td>NaN</td>\n",
       "    </tr>\n",
       "    <tr>\n",
       "      <th>117</th>\n",
       "      <td>118</td>\n",
       "      <td>Perempuan</td>\n",
       "      <td>49.0</td>\n",
       "      <td>65</td>\n",
       "      <td>NaN</td>\n",
       "    </tr>\n",
       "  </tbody>\n",
       "</table>\n",
       "</div>"
      ],
      "text/plain": [
       "     ID_pelanggan Jenis Kelamin  Umur  Pendapatan pertahun (juta)  \\\n",
       "8               9     Laki-laki  64.0                          19   \n",
       "49             50     Perempuan  31.0                          40   \n",
       "61             62     Laki-laki  19.0                          46   \n",
       "94             95     Perempuan  32.0                          60   \n",
       "117           118     Perempuan  49.0                          65   \n",
       "\n",
       "     Skor Belanja (1-100)  \n",
       "8                     3.0  \n",
       "49                    NaN  \n",
       "61                    NaN  \n",
       "94                    NaN  \n",
       "117                   NaN  "
      ]
     },
     "execution_count": 17,
     "metadata": {},
     "output_type": "execute_result"
    }
   ],
   "source": [
    "low_skor = skor.tail()\n",
    "low_skor"
   ]
  },
  {
   "cell_type": "code",
   "execution_count": 18,
   "metadata": {
    "id": "7zp_872QEOfJ",
    "scrolled": false
   },
   "outputs": [
    {
     "data": {
      "image/png": "[encoded data removed]",
      "text/plain": [
       "<Figure size 1296x216 with 1 Axes>"
      ]
     },
     "metadata": {
      "needs_background": "light"
     },
     "output_type": "display_data"
    }
   ],
   "source": [
    "#Highest Score\n",
    "\n",
    "plt.figure(figsize=(18,3))\n",
    "sns.barplot(data=high_skor,\n",
    "           x=\"Jenis Kelamin\",\n",
    "           y=\"Skor Belanja (1-100)\")\n",
    "plt.title('Top highest skor belanja', fontsize='14')\n",
    "plt.show()"
   ]
  },
  {
   "cell_type": "code",
   "execution_count": 19,
   "metadata": {
    "scrolled": true
   },
   "outputs": [
    {
     "data": {
      "image/png": "[encoded data removed]",
      "text/plain": [
       "<Figure size 1296x216 with 1 Axes>"
      ]
     },
     "metadata": {
      "needs_background": "light"
     },
     "output_type": "display_data"
    }
   ],
   "source": [
    "#Lowest Score\n",
    "\n",
    "plt.figure(figsize=(18,3))\n",
    "sns.barplot(data=low_skor,\n",
    "           x=\"Jenis Kelamin\",\n",
    "           y=\"Skor Belanja (1-100)\")\n",
    "plt.title('Top lowest skor belanja', fontsize='14')\n",
    "plt.show()"
   ]
  },
  {
   "cell_type": "markdown",
   "metadata": {},
   "source": [
    "From the plot above, its shows that the shopping score of female customer is higher than the shopping score of male customer."
   ]
  },
  {
   "cell_type": "markdown",
   "metadata": {
    "id": "fihavQveF98v"
   },
   "source": [
    "---\n",
    "\n",
    "<b>Multivariate Analysis\n",
    "\n",
    "We will explore with multivariate analysis to see the highest correlation of each data in the dataset before handling missing value and outlier."
   ]
  },
  {
   "cell_type": "code",
   "execution_count": 20,
   "metadata": {
    "id": "jCLrxETOGKVf"
   },
   "outputs": [
    {
     "data": {
      "image/png": "[encoded data removed]",
      "text/plain": [
       "<Figure size 432x288 with 2 Axes>"
      ]
     },
     "metadata": {
      "needs_background": "light"
     },
     "output_type": "display_data"
    }
   ],
   "source": [
    "df_drop = df.drop(columns=\"Jenis Kelamin\")\n",
    "sns.heatmap(df_drop.corr(), annot=True, fmt='.2g')\n",
    "\n",
    "plt.show()"
   ]
  },
  {
   "cell_type": "markdown",
   "metadata": {},
   "source": [
    "Based on the plot, correlation for age and shopping score variable has the darkest color with a negative value, which means the correlation between the two variables is quite strong but not in the same direction, it means if the age of customer is getting older, the shopping score tends to be smaller/decreasing, and vice versa."
   ]
  },
  {
   "cell_type": "markdown",
   "metadata": {
    "id": "z2nJhKqNpryR"
   },
   "source": [
    "\n",
    "\n",
    "---\n",
    "\n",
    "---\n",
    "\n",
    "\n",
    "\n",
    "---\n",
    "\n",
    "\n",
    "\n"
   ]
  },
  {
   "cell_type": "markdown",
   "metadata": {
    "id": "AF0090RVqbyh"
   },
   "source": [
    "<b>Scalling dataframe"
   ]
  },
  {
   "cell_type": "code",
   "execution_count": 21,
   "metadata": {
    "id": "XGv9ODV8G-Hc",
    "scrolled": true
   },
   "outputs": [],
   "source": [
    "#feature scaling\n",
    "\n",
    "from sklearn.preprocessing import StandardScaler\n",
    "\n",
    "scaler = StandardScaler()\n",
    "\n",
    "scaled_data = scaler.fit_transform(no_NaN[['Umur','Skor Belanja (1-100)']])"
   ]
  },
  {
   "cell_type": "markdown",
   "metadata": {
    "id": "gPDw48Mmqx7n"
   },
   "source": [
    "<b>Clustering"
   ]
  },
  {
   "cell_type": "code",
   "execution_count": 22,
   "metadata": {
    "id": "7Ah0fMJSLlC6"
   },
   "outputs": [
    {
     "data": {
      "image/png": "[encoded data removed]",
      "text/plain": [
       "<Figure size 864x576 with 1 Axes>"
      ]
     },
     "metadata": {
      "needs_background": "light"
     },
     "output_type": "display_data"
    }
   ],
   "source": [
    "#Elbow method to find the best number of clusters.\n",
    "\n",
    "plt.figure(figsize=(12,8))\n",
    "wcss = []\n",
    "for i in range(1,11):\n",
    "    kmeans = KMeans(n_clusters = i, init = 'k-means++', random_state = 40)\n",
    "    kmeans.fit(scaled_data)\n",
    "    wcss.append(kmeans.inertia_)\n",
    "plt.plot(range(1,11), wcss)\n",
    "plt.title('Elbow Method')\n",
    "plt.xlabel('n_cluster')\n",
    "plt.ylabel('WCSS')\n",
    "plt.show()"
   ]
  },
  {
   "cell_type": "code",
   "execution_count": 28,
   "metadata": {
    "id": "YZ86o5ggrLXg"
   },
   "outputs": [],
   "source": [
    "#With elbow method, we get n=3 for the best number of cluster\n",
    "\n",
    "kmeans3 = KMeans(n_clusters=3, random_state=40).fit(scaled_data)\n",
    "labels3 = kmeans3.labels_\n",
    "\n",
    "cluster_3 = pd.DataFrame(scaled_data, \n",
    "                           columns=['Umur','Skor Belanja (1-100)'])\n",
    "cluster_3['k3'] = labels3"
   ]
  },
  {
   "cell_type": "code",
   "execution_count": 24,
   "metadata": {
    "id": "372Hy7u4Zt41"
   },
   "outputs": [
    {
     "data": {
      "image/png": "[encoded data removed]",
      "text/plain": [
       "<Figure size 720x432 with 1 Axes>"
      ]
     },
     "metadata": {
      "needs_background": "light"
     },
     "output_type": "display_data"
    }
   ],
   "source": [
    "#Plotting cluster\n",
    "\n",
    "plt.figure(figsize=(10,6))\n",
    "\n",
    "plt.scatter(cluster_3['Umur'][cluster_3.k3 == 0], \n",
    "            cluster_3['Skor Belanja (1-100)'][cluster_3.k3 == 0], \n",
    "            c = 'g', \n",
    "            s = 70,\n",
    "            edgecolors = 'green', \n",
    "            linestyle = '-',\n",
    "            label = 0)\n",
    "plt.scatter(cluster_3['Umur'][cluster_3.k3 == 1], \n",
    "            cluster_3['Skor Belanja (1-100)'][cluster_3.k3 == 1], \n",
    "            c = 'r', \n",
    "            s = 70,\n",
    "            edgecolors = 'green', \n",
    "            linestyle = '-',\n",
    "            label = 1)\n",
    "plt.scatter(cluster_3['Umur'][cluster_3.k3 == 2], \n",
    "            cluster_3['Skor Belanja (1-100)'][cluster_3.k3 == 2], \n",
    "            c = 'b', \n",
    "            s = 70,\n",
    "            edgecolors = 'green', \n",
    "            linestyle = '-', \n",
    "            label = 2)\n",
    "\n",
    "centers = kmeans3.cluster_centers_\n",
    "plt.scatter(centers[:, 0], centers[:, 1], c='k', s=200)\n",
    "plt.xlabel('Umur')\n",
    "plt.ylabel('Skor Belanja (1-100)')\n",
    "plt.legend()\n",
    "plt.show()"
   ]
  },
  {
   "cell_type": "code",
   "execution_count": 25,
   "metadata": {
    "id": "tDBLnR3fI2RL"
   },
   "outputs": [
    {
     "name": "stdout",
     "output_type": "stream",
     "text": [
      "silhouette_score untuk n = 3 : 0.4632211897833843\n"
     ]
    }
   ],
   "source": [
    "#Silhoutte score for n=3\n",
    "from sklearn.metrics import silhouette_score\n",
    "\n",
    "print('silhouette_score untuk n = 3 :',silhouette_score(scaled_data, labels = labels3))"
   ]
  },
  {
   "cell_type": "markdown",
   "metadata": {
    "id": "eS19gNH_Zt41"
   },
   "source": [
    "---\n",
    "<b>Analyze clustering result"
   ]
  },
  {
   "cell_type": "code",
   "execution_count": 26,
   "metadata": {
    "id": "XBId02hZJfyK"
   },
   "outputs": [
    {
     "data": {
      "text/html": [
       "<div>\n",
       "<style scoped>\n",
       "    .dataframe tbody tr th:only-of-type {\n",
       "        vertical-align: middle;\n",
       "    }\n",
       "\n",
       "    .dataframe tbody tr th {\n",
       "        vertical-align: top;\n",
       "    }\n",
       "\n",
       "    .dataframe thead th {\n",
       "        text-align: right;\n",
       "    }\n",
       "</style>\n",
       "<table border=\"1\" class=\"dataframe\">\n",
       "  <thead>\n",
       "    <tr style=\"text-align: right;\">\n",
       "      <th></th>\n",
       "      <th>Umur</th>\n",
       "      <th>Skor Belanja (1-100)</th>\n",
       "      <th>label_k3</th>\n",
       "    </tr>\n",
       "  </thead>\n",
       "  <tbody>\n",
       "    <tr>\n",
       "      <th>0</th>\n",
       "      <td>19.0</td>\n",
       "      <td>39.0</td>\n",
       "      <td>2</td>\n",
       "    </tr>\n",
       "    <tr>\n",
       "      <th>1</th>\n",
       "      <td>21.0</td>\n",
       "      <td>81.0</td>\n",
       "      <td>0</td>\n",
       "    </tr>\n",
       "    <tr>\n",
       "      <th>2</th>\n",
       "      <td>20.0</td>\n",
       "      <td>6.0</td>\n",
       "      <td>2</td>\n",
       "    </tr>\n",
       "    <tr>\n",
       "      <th>3</th>\n",
       "      <td>23.0</td>\n",
       "      <td>77.0</td>\n",
       "      <td>0</td>\n",
       "    </tr>\n",
       "    <tr>\n",
       "      <th>4</th>\n",
       "      <td>31.0</td>\n",
       "      <td>40.0</td>\n",
       "      <td>2</td>\n",
       "    </tr>\n",
       "    <tr>\n",
       "      <th>...</th>\n",
       "      <td>...</td>\n",
       "      <td>...</td>\n",
       "      <td>...</td>\n",
       "    </tr>\n",
       "    <tr>\n",
       "      <th>241</th>\n",
       "      <td>27.0</td>\n",
       "      <td>69.0</td>\n",
       "      <td>0</td>\n",
       "    </tr>\n",
       "    <tr>\n",
       "      <th>242</th>\n",
       "      <td>59.0</td>\n",
       "      <td>14.0</td>\n",
       "      <td>1</td>\n",
       "    </tr>\n",
       "    <tr>\n",
       "      <th>243</th>\n",
       "      <td>35.0</td>\n",
       "      <td>90.0</td>\n",
       "      <td>0</td>\n",
       "    </tr>\n",
       "    <tr>\n",
       "      <th>244</th>\n",
       "      <td>37.0</td>\n",
       "      <td>32.0</td>\n",
       "      <td>2</td>\n",
       "    </tr>\n",
       "    <tr>\n",
       "      <th>245</th>\n",
       "      <td>32.0</td>\n",
       "      <td>86.0</td>\n",
       "      <td>0</td>\n",
       "    </tr>\n",
       "  </tbody>\n",
       "</table>\n",
       "<p>246 rows × 3 columns</p>\n",
       "</div>"
      ],
      "text/plain": [
       "     Umur  Skor Belanja (1-100)  label_k3\n",
       "0    19.0                  39.0         2\n",
       "1    21.0                  81.0         0\n",
       "2    20.0                   6.0         2\n",
       "3    23.0                  77.0         0\n",
       "4    31.0                  40.0         2\n",
       "..    ...                   ...       ...\n",
       "241  27.0                  69.0         0\n",
       "242  59.0                  14.0         1\n",
       "243  35.0                  90.0         0\n",
       "244  37.0                  32.0         2\n",
       "245  32.0                  86.0         0\n",
       "\n",
       "[246 rows x 3 columns]"
      ]
     },
     "execution_count": 26,
     "metadata": {},
     "output_type": "execute_result"
    }
   ],
   "source": [
    "#Inverse transform\n",
    "\n",
    "inv_scaled = scaler.inverse_transform(scaled_data)\n",
    "new_df1 = pd.DataFrame(data= inv_scaled,\n",
    "                       columns=['Umur','Skor Belanja (1-100)'])\n",
    "\n",
    "new_df1['label_k3'] = labels3\n",
    "new_df1"
   ]
  },
  {
   "cell_type": "code",
   "execution_count": 27,
   "metadata": {
    "id": "Sf-6M9oFJ2ob"
   },
   "outputs": [
    {
     "data": {
      "image/png": "[encoded data removed]",
      "text/plain": [
       "<Figure size 720x432 with 1 Axes>"
      ]
     },
     "metadata": {
      "needs_background": "light"
     },
     "output_type": "display_data"
    }
   ],
   "source": [
    "plt.figure(figsize = (10,6))\n",
    "plt.scatter(new_df1['Umur'][new_df1.label_k3 == 0], \n",
    "            new_df1['Skor Belanja (1-100)'][new_df1.label_k3 == 0], \n",
    "            c = 'r', \n",
    "            s = 70,\n",
    "            label = 0)\n",
    "plt.scatter(new_df1['Umur'][new_df1.label_k3 == 1], \n",
    "            new_df1['Skor Belanja (1-100)'][new_df1.label_k3 == 1], \n",
    "            c = 'g', \n",
    "            s = 70,\n",
    "            label = 1)\n",
    "plt.scatter(new_df1['Umur'][new_df1.label_k3 == 2], \n",
    "            new_df1['Skor Belanja (1-100)'][new_df1.label_k3 == 2], \n",
    "            c = 'b', \n",
    "            s = 70, \n",
    "            label = 2)\n",
    "\n",
    "plt.title('Customer cluster')\n",
    "plt.xlabel('Umur')\n",
    "plt.ylabel('Skor Belanjan(1-100)')\n",
    "plt.legend()\n",
    "plt.show()"
   ]
  },
  {
   "cell_type": "markdown",
   "metadata": {
    "id": "sz_piZCGZt42"
   },
   "source": [
    "Based on the plot above, we get 3 clusters :blue cluster, red cluster, and green cluster. \n",
    "\n",
    "The first cluster is blue cluster for a group of young customers whose ages range from 20 to 40 years and have low shopping scores.\n",
    "\n",
    "Second cluster is red cluster for groups of young customers whose ages range from 20 to 40 years and have high shopping scores.\n",
    "\n",
    "Third cluster is green cluster for groups of elderly customers whose ages range from 50 to 70 years and have low shopping scores."
   ]
  }
 ],
 "metadata": {
  "colab": {
   "collapsed_sections": [],
   "name": "Tugas_pekan_4_PDS(MiniProject).ipynb",
   "provenance": []
  },
  "kernelspec": {
   "display_name": "Python [conda env:bootcamp_DS]",
   "language": "python",
   "name": "conda-env-bootcamp_DS-py"
  },
  "language_info": {
   "codemirror_mode": {
    "name": "ipython",
    "version": 3
   },
   "file_extension": ".py",
   "mimetype": "text/x-python",
   "name": "python",
   "nbconvert_exporter": "python",
   "pygments_lexer": "ipython3",
   "version": "3.9.7"
  }
 },
 "nbformat": 4,
 "nbformat_minor": 1
}
